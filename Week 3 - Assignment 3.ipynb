{
 "cells": [
  {
   "cell_type": "markdown",
   "metadata": {},
   "source": [
    "# Bicycle Ride from New York City to Key West, Florida\n",
    "\n",
    "Google maps reports that the total distance from New York City to Key West, Florida is 1,436 miles.\n",
    "\n",
    "This notebook will create a pandas Series object that holds the cumulative miles at the end of each day, then will show the total miles traveled each day."
   ]
  },
  {
   "cell_type": "code",
   "execution_count": 1,
   "metadata": {},
   "outputs": [],
   "source": [
    "# import modules\n",
    "import numpy as np\n",
    "import pandas as pd\n",
    "import matplotlib.pyplot as pyplot\n",
    "\n",
    "from pandas import DataFrame, Series\n",
    "\n",
    "# Enable inline plotting\n",
    "%matplotlib inline"
   ]
  },
  {
   "cell_type": "markdown",
   "metadata": {},
   "source": [
    "First, the data is entered as a list"
   ]
  },
  {
   "cell_type": "code",
   "execution_count": 2,
   "metadata": {},
   "outputs": [
    {
     "name": "stdout",
     "output_type": "stream",
     "text": [
      "[0, 55, 115, 165, 225, 310, 350, 405, 454, 529, 583, 648, 708, 773, 858, 952, 1017, 1112, 1161, 1250, 1311, 1376, 1436]\n"
     ]
    }
   ],
   "source": [
    "# Inputting miles traveled as list\n",
    "miles_traveled = [0, 55, 115, 165, 225, 310, 350, 405, 454, 529, 583, 648, 708, 773, 858, 952, 1017, 1112, 1161, 1250, 1311, 1376, 1436]\n",
    "print(miles_traveled)"
   ]
  },
  {
   "cell_type": "markdown",
   "metadata": {},
   "source": [
    "Then the list is converted into a series, with a function to show the difference in distance between each day"
   ]
  },
  {
   "cell_type": "code",
   "execution_count": 3,
   "metadata": {},
   "outputs": [
    {
     "data": {
      "text/plain": [
       "0     55\n",
       "1     60\n",
       "2     50\n",
       "3     60\n",
       "4     85\n",
       "5     40\n",
       "6     55\n",
       "7     49\n",
       "8     75\n",
       "9     54\n",
       "10    65\n",
       "11    60\n",
       "12    65\n",
       "13    85\n",
       "14    94\n",
       "15    65\n",
       "16    95\n",
       "17    49\n",
       "18    89\n",
       "19    61\n",
       "20    65\n",
       "21    60\n",
       "dtype: int32"
      ]
     },
     "execution_count": 3,
     "metadata": {},
     "output_type": "execute_result"
    }
   ],
   "source": [
    "# Convert list to series, run function to determine difference \n",
    "traveled_series = pd.Series (np.diff(miles_traveled))\n",
    "traveled_series"
   ]
  },
  {
   "cell_type": "markdown",
   "metadata": {},
   "source": [
    "And this shows the cumulative distance traveled over the trip"
   ]
  },
  {
   "cell_type": "code",
   "execution_count": 4,
   "metadata": {},
   "outputs": [
    {
     "data": {
      "image/png": "[encoded data removed]",
      "text/plain": [
       "<Figure size 432x288 with 1 Axes>"
      ]
     },
     "metadata": {
      "needs_background": "light"
     },
     "output_type": "display_data"
    }
   ],
   "source": [
    "miles_traveled_series = pd.Series(miles_traveled)\n",
    "miles_traveled_series.plot.line()\n",
    "\n",
    "pyplot.xlabel('Days')\n",
    "pyplot.ylabel('Miles Traveled')\n",
    "pyplot.show()"
   ]
  }
 ],
 "metadata": {
  "kernelspec": {
   "display_name": "Python 3",
   "language": "python",
   "name": "python3"
  },
  "language_info": {
   "codemirror_mode": {
    "name": "ipython",
    "version": 3
   },
   "file_extension": ".py",
   "mimetype": "text/x-python",
   "name": "python",
   "nbconvert_exporter": "python",
   "pygments_lexer": "ipython3",
   "version": "3.7.4"
  }
 },
 "nbformat": 4,
 "nbformat_minor": 2
}
